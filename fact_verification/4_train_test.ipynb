{
 "cells": [
  {
   "cell_type": "markdown",
   "metadata": {},
   "source": [
    "This file consits ESIM training model and test prediction script\n",
    "\n",
    "The input file for training is: **'3_class_train_set.json'** which exists in current path\n",
    "\n",
    "The input file for predicting test-unlabelled.json is **'3_class_test-unlabelled.json'** which is in current path\n",
    "\n",
    "Finally the predicted file will be output as JSON file named **'testoutput.json'**"
   ]
  },
  {
   "cell_type": "code",
   "execution_count": null,
   "metadata": {
    "colab": {
     "base_uri": "https://localhost:8080/",
     "height": 124
    },
    "colab_type": "code",
    "id": "KV4E4SuDybne",
    "outputId": "9247e8ac-bc1b-464a-b6e3-e26396e02785",
    "scrolled": true
   },
   "outputs": [],
   "source": [
    "\"\"\"\n",
    "This code runs on Google Colaboratory with GPU runtime\n",
    "\n",
    "Please upload relvent input files into google drive \n",
    "(Three files:'3_class_train.json', '3_class_test-unlabelled.json' and 'glove.6B.300d.txt')\n",
    "glove.6B.300d.txt could be retrieved at http://nlp.stanford.edu/data/glove.6B.zip, \n",
    "and other two files are the output from previous step.\n",
    "\"\"\"\n",
    "from google.colab import drive\n",
    "import os\n",
    "drive.mount('/gdrive')\n",
    "\n",
    "# Please modify DRIVE_FOLDER to the path where all output file and glove embedding file exists.\n",
    "# in this situation, all files mentioned above are stored in '/gdrive/My Drive/glove.6B/'.\n",
    "DRIVE_FOLDER = '/gdrive/My Drive/glove.6B/'\n",
    "\n",
    "TRAIN_PATH = os.path.join(DRIVE_FOLDER, '3_class_train_set.json')\n",
    "DEV_PATH = os.path.join(DRIVE_FOLDER, '3_class_devset.json')\n",
    "UNLABEL_PATH = os.path.join(DRIVE_FOLDER, '3_class_test-unlabelled.json')\n",
    "glove_path = os.path.join(DRIVE_FOLDER, 'glove.6B.300d.txt')"
   ]
  },
  {
   "cell_type": "code",
   "execution_count": 0,
   "metadata": {
    "colab": {},
    "colab_type": "code",
    "id": "Van7tczDvLiT"
   },
   "outputs": [],
   "source": [
    "import nltk\n",
    "import json\n",
    "import numpy as np\n",
    "import csv\n",
    "\n",
    "\n",
    "\n",
    "import tensorflow as tf\n",
    "from keras.models import load_model\n",
    "from keras.preprocessing.text import Tokenizer\n",
    "from keras.preprocessing.sequence import pad_sequences\n",
    "import keras.backend as K\n",
    "from keras.layers import LSTM, Input, Dot, Softmax, Multiply, Concatenate, Subtract, Dense, Lambda, Embedding, Dropout\n",
    "from keras.layers import Bidirectional\n",
    "from keras.models import Model, load_model\n",
    "from keras.preprocessing import sequence\n",
    "from keras.callbacks import EarlyStopping\n",
    "from keras.preprocessing.text import Tokenizer\n",
    "from nltk.corpus import stopwords\n",
    "from nltk.tokenize import RegexpTokenizer\n",
    "from pathlib import Path"
   ]
  },
  {
   "cell_type": "code",
   "execution_count": 0,
   "metadata": {
    "colab": {},
    "colab_type": "code",
    "id": "rMBO73cRvtt9"
   },
   "outputs": [],
   "source": [
    "MAX_NB_Words = 48000\n",
    "Embedding_dim = 300\n",
    "Max_seq_length = 100"
   ]
  },
  {
   "cell_type": "code",
   "execution_count": 0,
   "metadata": {
    "colab": {},
    "colab_type": "code",
    "id": "bdoYAhMYv2jA"
   },
   "outputs": [],
   "source": [
    "def evidence_pre_processing(evidence):\n",
    "    temp = ''\n",
    "    for sentence in evidence:\n",
    "        title, id = sentence.split()[0], sentence.split()[1]\n",
    "        sentence = sentence.strip(title).lstrip(' ').strip(id).lstrip(' ').rstrip('\\n')\n",
    "        sentence = sentence.replace('-LRB-', '(').replace('-RRB-', ')').replace('-COLON-', ':')\n",
    "        temp = temp + sentence\n",
    "    return temp"
   ]
  },
  {
   "cell_type": "code",
   "execution_count": 0,
   "metadata": {
    "colab": {},
    "colab_type": "code",
    "id": "iJ1cb-RBv3qu"
   },
   "outputs": [],
   "source": [
    "def label_encoding(all_labels):\n",
    "    temp = []\n",
    "    for label in all_labels:\n",
    "        if label == 'SUPPORTS':\n",
    "            temp.append([1.0, 0.0, 0.0])\n",
    "        elif label == 'REFUTES':\n",
    "            temp.append([0.0, 1.0, 0.0])\n",
    "        elif label == 'NOT ENOUGH INFO':\n",
    "            temp.append([0.0, 0.0, 1.0])\n",
    "    return temp"
   ]
  },
  {
   "cell_type": "code",
   "execution_count": 0,
   "metadata": {
    "colab": {},
    "colab_type": "code",
    "id": "_3_rQD_YJDYJ"
   },
   "outputs": [],
   "source": [
    "def read_file(file):\n",
    "    all_claims = []\n",
    "    all_evidences = []\n",
    "    all_labels = []\n",
    "    count = 0\n",
    "    with open(file, 'r') as f:\n",
    "        data = json.load(f)\n",
    "        for key, value in data.items():\n",
    "            label = value['label']\n",
    "            evidence = evidence_pre_processing(value['evidence'])\n",
    "            claim = value['claim']\n",
    "            if len(evidence) <= 500 and len(claim) <= 500:\n",
    "                all_claims.append(claim)\n",
    "                all_evidences.append(evidence)\n",
    "                all_labels.append(label)\n",
    "            count += 1\n",
    "            if count % 10000 == 0:\n",
    "                print(count)\n",
    "        f.close()\n",
    "    all_labels = label_encoding(all_labels)\n",
    "    return all_claims, all_evidences, np.array(all_labels)"
   ]
  },
  {
   "cell_type": "code",
   "execution_count": 0,
   "metadata": {
    "colab": {},
    "colab_type": "code",
    "id": "v89S-zFJysLm"
   },
   "outputs": [],
   "source": [
    "def read_dev_file(file):\n",
    "    all_claims = []\n",
    "    all_evidences = []\n",
    "    all_labels = []\n",
    "    count = 0\n",
    "    with open(file, 'r') as f:\n",
    "        data = json.load(f)\n",
    "        for key, value in data.items():\n",
    "            label = value['label']\n",
    "            evidence = evidence_pre_processing(value['evidence'])\n",
    "            claim = value['claim']\n",
    "            all_claims.append(claim)\n",
    "            all_evidences.append(evidence)\n",
    "            all_labels.append(label)\n",
    "            count += 1\n",
    "            if count % 1000 == 0:\n",
    "                print(count)\n",
    "        f.close()\n",
    "    all_labels = label_encoding(all_labels)\n",
    "    return all_claims, all_evidences, np.array(all_labels)"
   ]
  },
  {
   "cell_type": "code",
   "execution_count": 10,
   "metadata": {
    "colab": {
     "base_uri": "https://localhost:8080/",
     "height": 260
    },
    "colab_type": "code",
    "id": "jVUFX9X2wPPB",
    "outputId": "caba6fdc-639f-47c9-ff7f-134fccdf7ac3"
   },
   "outputs": [
    {
     "name": "stdout",
     "output_type": "stream",
     "text": [
      "10000\n",
      "20000\n",
      "30000\n",
      "40000\n",
      "50000\n",
      "60000\n",
      "70000\n",
      "80000\n",
      "90000\n",
      "100000\n",
      "110000\n",
      "120000\n",
      "130000\n",
      "140000\n"
     ]
    }
   ],
   "source": [
    "file_path = DRIVE_FOLDER\n",
    "file = TRAIN_PATH\n",
    "all_claims, all_evidences, all_labels = read_file(file)"
   ]
  },
  {
   "cell_type": "code",
   "execution_count": 11,
   "metadata": {
    "colab": {
     "base_uri": "https://localhost:8080/",
     "height": 54
    },
    "colab_type": "code",
    "id": "63kFnJMnwaI7",
    "outputId": "5369a115-5c80-45a2-ecd3-f4d112c6ebf7"
   },
   "outputs": [
    {
     "data": {
      "text/plain": [
       "'The Fox Broadcasting Company ( often shortened to Fox and stylized as FOX ) is an American English language commercial broadcast television network that is owned by the Fox Entertainment Group subsidiary of 21st Century Fox .He then played Detective John Amsterdam in the short-lived Fox television series New Amsterdam ( 2008 ) , as well as appearing as Frank Pike in the 2009 Fox television film Virtuality , originally intended as a pilot .'"
      ]
     },
     "execution_count": 11,
     "metadata": {
      "tags": []
     },
     "output_type": "execute_result"
    }
   ],
   "source": [
    "all_evidences[0]"
   ]
  },
  {
   "cell_type": "code",
   "execution_count": 12,
   "metadata": {
    "colab": {
     "base_uri": "https://localhost:8080/",
     "height": 34
    },
    "colab_type": "code",
    "id": "UyKyZdnGwb2l",
    "outputId": "e8ebef67-73ac-4a9c-e951-b9c8be4c69d7"
   },
   "outputs": [
    {
     "data": {
      "text/plain": [
       "75"
      ]
     },
     "execution_count": 12,
     "metadata": {
      "tags": []
     },
     "output_type": "execute_result"
    }
   ],
   "source": [
    "len(all_evidences[0].split(' '))"
   ]
  },
  {
   "cell_type": "code",
   "execution_count": 13,
   "metadata": {
    "colab": {
     "base_uri": "https://localhost:8080/",
     "height": 34
    },
    "colab_type": "code",
    "id": "pTvGC-zlwdCv",
    "outputId": "e0bf7efb-df04-46f4-926e-d98dceac9e1f"
   },
   "outputs": [
    {
     "data": {
      "text/plain": [
       "'Nikolaj Coster-Waldau worked with the Fox Broadcasting Company.'"
      ]
     },
     "execution_count": 13,
     "metadata": {
      "tags": []
     },
     "output_type": "execute_result"
    }
   ],
   "source": [
    "all_claims[0]"
   ]
  },
  {
   "cell_type": "code",
   "execution_count": 15,
   "metadata": {
    "colab": {
     "base_uri": "https://localhost:8080/",
     "height": 104
    },
    "colab_type": "code",
    "id": "G13GrTTGw569",
    "outputId": "36d22c89-b745-4695-82bb-fe24e4c4c309"
   },
   "outputs": [
    {
     "name": "stdout",
     "output_type": "stream",
     "text": [
      "1000\n",
      "2000\n",
      "3000\n",
      "4000\n",
      "5000\n"
     ]
    }
   ],
   "source": [
    "dev_file = DEV_PATH\n",
    "dev_claims, dev_evidences, dev_labels = read_dev_file(dev_file)"
   ]
  },
  {
   "cell_type": "code",
   "execution_count": 16,
   "metadata": {
    "colab": {
     "base_uri": "https://localhost:8080/",
     "height": 34
    },
    "colab_type": "code",
    "id": "45bAK0IOxhVA",
    "outputId": "36a8f57f-d7e9-4c79-c70e-2e41c8a5b66d"
   },
   "outputs": [
    {
     "data": {
      "text/plain": [
       "'Colin Kaepernick became a starting quarterback during the 49ers 63rd season in the National Football League.'"
      ]
     },
     "execution_count": 16,
     "metadata": {
      "tags": []
     },
     "output_type": "execute_result"
    }
   ],
   "source": [
    "dev_claims[0]"
   ]
  },
  {
   "cell_type": "code",
   "execution_count": 17,
   "metadata": {
    "colab": {
     "base_uri": "https://localhost:8080/",
     "height": 54
    },
    "colab_type": "code",
    "id": "uiVMfqtuxjqP",
    "outputId": "857ba133-ff95-45b4-bac0-7d33fe57330e"
   },
   "outputs": [
    {
     "data": {
      "text/plain": [
       "'Colin Kaepernick Colin Kaepernick Colin Rand Kaepernick   LSB  ` kæpərnɪk  RSB  ; born November 3 , 1987  is an American football quarterback who is currently a free agent .Colin Kaepernick Colin Kaepernick Kaepernick played collegiate football at the University of Nevada where he was named the Western Athletic Offensive Player of the Year twice and was the Most Valuable Player of the 2008 Humanitarian Bowl .'"
      ]
     },
     "execution_count": 17,
     "metadata": {
      "tags": []
     },
     "output_type": "execute_result"
    }
   ],
   "source": [
    "dev_evidences[0]"
   ]
  },
  {
   "cell_type": "code",
   "execution_count": 0,
   "metadata": {
    "colab": {},
    "colab_type": "code",
    "id": "f6T9NGrrJQbH"
   },
   "outputs": [],
   "source": [
    "def read_test_file(file):\n",
    "    all_claims = []\n",
    "    all_evidences = []\n",
    "    all_labels = []\n",
    "    count = 0\n",
    "    with open(file, 'r') as f:\n",
    "        data = json.load(f)\n",
    "        for key, value in data.items():\n",
    "            evidence = evidence_pre_processing(value['evidence'])\n",
    "            claim = value['claim']\n",
    "            all_claims.append(claim)\n",
    "            all_evidences.append(evidence)\n",
    "            count += 1\n",
    "            if count % 1000 == 0:\n",
    "                print(count)\n",
    "        f.close()\n",
    "    return all_claims, all_evidences"
   ]
  },
  {
   "cell_type": "code",
   "execution_count": 19,
   "metadata": {
    "colab": {
     "base_uri": "https://localhost:8080/",
     "height": 260
    },
    "colab_type": "code",
    "id": "N0b3zibC4FRj",
    "outputId": "b2e0fc47-0457-4b03-e294-cf92227e7447"
   },
   "outputs": [
    {
     "name": "stdout",
     "output_type": "stream",
     "text": [
      "1000\n",
      "2000\n",
      "3000\n",
      "4000\n",
      "5000\n",
      "6000\n",
      "7000\n",
      "8000\n",
      "9000\n",
      "10000\n",
      "11000\n",
      "12000\n",
      "13000\n",
      "14000\n"
     ]
    }
   ],
   "source": [
    "test_claims, test_evidences = read_test_file(UNLABEL_PATH)"
   ]
  },
  {
   "cell_type": "code",
   "execution_count": 20,
   "metadata": {
    "colab": {
     "base_uri": "https://localhost:8080/",
     "height": 34
    },
    "colab_type": "code",
    "id": "jh6Gk8rA4JEi",
    "outputId": "bd404cbe-f59a-450f-db98-e66eb548c0ce"
   },
   "outputs": [
    {
     "data": {
      "text/plain": [
       "'Raven-Symoné is an Anglican.'"
      ]
     },
     "execution_count": 20,
     "metadata": {
      "tags": []
     },
     "output_type": "execute_result"
    }
   ],
   "source": [
    "test_claims[0]\n"
   ]
  },
  {
   "cell_type": "code",
   "execution_count": 21,
   "metadata": {
    "colab": {
     "base_uri": "https://localhost:8080/",
     "height": 54
    },
    "colab_type": "code",
    "id": "50IrfKuV4LVu",
    "outputId": "57d04c04-afc8-4fa3-d823-f3cdd5768bfb"
   },
   "outputs": [
    {
     "data": {
      "text/plain": [
       "\"Raven Symoné Christina Pearman   LSB  ˈreɪ.vən   sɪˈmoʊn  RSB  born December 10 , 1985  , sometimes credited as Raven , is an American actress , singer , songwriter , television personality , and producer .She first appeared on television in 1989 on The Cosby Show as Olivia Kendall .She released her debut album , Here 's to New Dreams in 1993 ; the single , `` That 's What Little Girls Are Made Of '' charted number 68 on the US Billboard Hot 100 .The next album , Undeniable , was released on May 4 , 1999 .Raven Symoné appeared in several successful television series , such as The Cosby Show and Hangin ' with Mr. Cooper , in the late 1980s and early 1990s .From 2003 to 2007 , she starred in the Disney Channel series , That 's So Raven in which she played Raven Baxter , a psychic teenager who tried her best to keep her psychic powers a secret .\""
      ]
     },
     "execution_count": 21,
     "metadata": {
      "tags": []
     },
     "output_type": "execute_result"
    }
   ],
   "source": [
    "test_evidences[0]"
   ]
  },
  {
   "cell_type": "code",
   "execution_count": 0,
   "metadata": {
    "colab": {},
    "colab_type": "code",
    "id": "1bQwPF7yxkql"
   },
   "outputs": [],
   "source": [
    "def preprocessing(train_claim, train_evidence, dev_claim, dev_evidence, test_claim, test_evidence):\n",
    "    tokenizer = Tokenizer(num_words=MAX_NB_Words)\n",
    "    tokenizer.fit_on_texts(train_claim+train_evidence)\n",
    "    x_train_seq_claim = tokenizer.texts_to_sequences(train_claim)\n",
    "    x_train_seq_evidence = tokenizer.texts_to_sequences(train_evidence)\n",
    "    x_train_claim = sequence.pad_sequences(x_train_seq_claim, maxlen=Max_seq_length)\n",
    "    x_train_evidence = sequence.pad_sequences(x_train_seq_evidence, maxlen=Max_seq_length)\n",
    "    \n",
    "    x_dev_seq_claim = tokenizer.texts_to_sequences(dev_claim)\n",
    "    x_dev_seq_evidence = tokenizer.texts_to_sequences(dev_evidence)\n",
    "    x_dev_claim = sequence.pad_sequences(x_dev_seq_claim, maxlen=Max_seq_length)\n",
    "    x_dev_evidence = sequence.pad_sequences(x_dev_seq_evidence, maxlen=Max_seq_length)\n",
    "    \n",
    "    x_test_seq_claim = tokenizer.texts_to_sequences(test_claim)\n",
    "    x_test_seq_evidence = tokenizer.texts_to_sequences(test_evidence)\n",
    "    x_test_claim = sequence.pad_sequences(x_test_seq_claim, maxlen=Max_seq_length)\n",
    "    x_test_evidence = sequence.pad_sequences(x_test_seq_evidence, maxlen=Max_seq_length)\n",
    "    \n",
    "    word_index = tokenizer.word_index\n",
    "    del tokenizer\n",
    "    return x_train_claim, x_train_evidence, x_dev_claim, x_dev_evidence, x_test_claim, x_test_evidence, word_index"
   ]
  },
  {
   "cell_type": "code",
   "execution_count": 23,
   "metadata": {
    "colab": {
     "base_uri": "https://localhost:8080/",
     "height": 34
    },
    "colab_type": "code",
    "id": "JmV3Jyi6xnEY",
    "outputId": "ad0210d5-fb2e-499f-cb73-a9a5879386bb"
   },
   "outputs": [
    {
     "name": "stdout",
     "output_type": "stream",
     "text": [
      "41868\n"
     ]
    }
   ],
   "source": [
    "x_train_claim, x_train_evidence,x_dev_claim, x_dev_evidence, x_test_claim, x_test_evidence, word_index = preprocessing(all_claims, all_evidences, dev_claims, dev_evidences, test_claims, test_evidences)\n",
    "print(len(word_index))"
   ]
  },
  {
   "cell_type": "code",
   "execution_count": 24,
   "metadata": {
    "colab": {
     "base_uri": "https://localhost:8080/",
     "height": 34
    },
    "colab_type": "code",
    "id": "8nW_OoHvxoVd",
    "outputId": "be11c85a-8ddc-4ce5-bbb4-c47bbbd095e0"
   },
   "outputs": [
    {
     "name": "stdout",
     "output_type": "stream",
     "text": [
      "[1. 0. 0.]\n"
     ]
    }
   ],
   "source": [
    "print(all_labels[0])"
   ]
  },
  {
   "cell_type": "code",
   "execution_count": 0,
   "metadata": {
    "colab": {},
    "colab_type": "code",
    "id": "ogENumdzxpm2"
   },
   "outputs": [],
   "source": [
    "\n",
    "\n",
    "# Code copied from https://keras.io/examples/pretrained_word_embeddings/\n",
    "with open(glove_path) as f:\n",
    "    embeddings_index = {}\n",
    "    for line in f:\n",
    "        values = line.split()\n",
    "        word = ' '.join(values[:-300])\n",
    "        embedding_weights = np.asarray(values[-300:], dtype='float32')\n",
    "        embeddings_index[word] = embedding_weights\n",
    "    f.close()\n",
    "\n",
    "embedding_matrix = np.zeros((len(word_index) + 1, Embedding_dim))\n",
    "for word, i in word_index.items():\n",
    "    embedding_vector = embeddings_index.get(word)\n",
    "    if embedding_vector is not None:\n",
    "        embedding_matrix[i] = embedding_vector\n",
    "\n",
    "embedding_layer = Embedding(len(word_index) + 1,\n",
    "                                Embedding_dim,\n",
    "                                weights=[embedding_matrix],\n",
    "                                input_length=Max_seq_length,\n",
    "                                trainable=False)\n",
    "# Copied code end"
   ]
  },
  {
   "cell_type": "code",
   "execution_count": 27,
   "metadata": {
    "colab": {
     "base_uri": "https://localhost:8080/",
     "height": 34
    },
    "colab_type": "code",
    "id": "hfYhEIOjxu81",
    "outputId": "ef060300-619e-4a32-894c-e07ba04b54a2"
   },
   "outputs": [
    {
     "name": "stdout",
     "output_type": "stream",
     "text": [
      "(41869, 300)\n"
     ]
    }
   ],
   "source": [
    "print(embedding_matrix.shape)"
   ]
  },
  {
   "cell_type": "code",
   "execution_count": 28,
   "metadata": {
    "colab": {
     "base_uri": "https://localhost:8080/",
     "height": 141
    },
    "colab_type": "code",
    "id": "DBvigDGexxb7",
    "outputId": "f8ce5c12-664f-4cf9-f466-3a6e7ded866a"
   },
   "outputs": [
    {
     "name": "stdout",
     "output_type": "stream",
     "text": [
      "WARNING:tensorflow:From /usr/local/lib/python3.6/dist-packages/tensorflow/python/framework/op_def_library.py:263: colocate_with (from tensorflow.python.framework.ops) is deprecated and will be removed in a future version.\n",
      "Instructions for updating:\n",
      "Colocations handled automatically by placer.\n",
      "WARNING:tensorflow:From /usr/local/lib/python3.6/dist-packages/keras/backend/tensorflow_backend.py:3445: calling dropout (from tensorflow.python.ops.nn_ops) with keep_prob is deprecated and will be removed in a future version.\n",
      "Instructions for updating:\n",
      "Please use `rate` instead of `keep_prob`. Rate should be set to `rate = 1 - keep_prob`.\n"
     ]
    }
   ],
   "source": [
    "# Code copied from https://github.com/sdnr1/EBIM-NLI/blob/master/NLI.ipynb with slightly modification\n",
    "bilstm1 = Bidirectional(LSTM(Embedding_dim, return_sequences=True))\n",
    "bilstm2 = Bidirectional(LSTM(Embedding_dim, return_sequences=True))\n",
    "\n",
    "i1 = Input(shape=(Max_seq_length,), dtype='float32')\n",
    "i2 = Input(shape=(Max_seq_length,), dtype='float32')\n",
    "\n",
    "x1 = embedding_layer(i1)\n",
    "x2 = embedding_layer(i2)\n",
    "x1 = bilstm1(x1)\n",
    "x2 = bilstm1(x2)\n",
    "\n",
    "e = Dot(axes=2)([x1, x2])\n",
    "e1 = Softmax(axis=2)(e)\n",
    "e2 = Softmax(axis=1)(e)\n",
    "e1 = Lambda(K.expand_dims, arguments={'axis' : 3})(e1)\n",
    "e2 = Lambda(K.expand_dims, arguments={'axis' : 3})(e2)\n",
    "\n",
    "_x1 = Lambda(K.expand_dims, arguments={'axis' : 1})(x2)\n",
    "_x1 = Multiply()([e1, _x1])\n",
    "_x1 = Lambda(K.sum, arguments={'axis' : 2})(_x1)\n",
    "_x2 = Lambda(K.expand_dims, arguments={'axis' : 2})(x1)\n",
    "_x2 = Multiply()([e2, _x2])\n",
    "_x2 = Lambda(K.sum, arguments={'axis' : 1})(_x2)\n",
    "\n",
    "m1 = Concatenate()([x1, _x1, Subtract()([x1, _x1]), Multiply()([x1, _x1])])\n",
    "m2 = Concatenate()([x2, _x2, Subtract()([x2, _x2]), Multiply()([x2, _x2])])\n",
    "\n",
    "y1 = bilstm2(m1)\n",
    "y2 = bilstm2(m2)\n",
    "\n",
    "mx1 = Lambda(K.max, arguments={'axis' : 1})(y1)\n",
    "av1 = Lambda(K.mean, arguments={'axis' : 1})(y1)\n",
    "mx2 = Lambda(K.max, arguments={'axis' : 1})(y2)\n",
    "av2 = Lambda(K.mean, arguments={'axis' : 1})(y2)\n",
    "\n",
    "y = Concatenate()([av1, mx1, av2, mx2])\n",
    "y = Dense(256, activation='tanh')(y)\n",
    "y = Dropout(0.5)(y)\n",
    "y = Dense(256, activation='tanh')(y)\n",
    "y = Dropout(0.5)(y)\n",
    "y = Dense(3, activation='softmax')(y)\n",
    "\n",
    "model = Model(inputs=[i1, i2], outputs=y)\n",
    "# Copied code ended"
   ]
  },
  {
   "cell_type": "code",
   "execution_count": 0,
   "metadata": {
    "colab": {},
    "colab_type": "code",
    "id": "7__0tE-Pxzn7"
   },
   "outputs": [],
   "source": [
    "model.compile(loss='categorical_crossentropy', optimizer='adam', metrics=['accuracy'])\n",
    "es = EarlyStopping(monitor='val_loss', patience=3)\n"
   ]
  },
  {
   "cell_type": "code",
   "execution_count": 30,
   "metadata": {
    "colab": {
     "base_uri": "https://localhost:8080/",
     "height": 332
    },
    "colab_type": "code",
    "id": "lQ4MAYXbIKtn",
    "outputId": "7a8232f1-466e-4bab-9254-11de0680a27b"
   },
   "outputs": [
    {
     "name": "stdout",
     "output_type": "stream",
     "text": [
      "WARNING:tensorflow:From /usr/local/lib/python3.6/dist-packages/tensorflow/python/ops/math_ops.py:3066: to_int32 (from tensorflow.python.ops.math_ops) is deprecated and will be removed in a future version.\n",
      "Instructions for updating:\n",
      "Use tf.cast instead.\n",
      "WARNING:tensorflow:From /usr/local/lib/python3.6/dist-packages/tensorflow/python/ops/math_grad.py:102: div (from tensorflow.python.ops.math_ops) is deprecated and will be removed in a future version.\n",
      "Instructions for updating:\n",
      "Deprecated in favor of operator or tf.math.divide.\n",
      "Train on 107806 samples, validate on 11979 samples\n",
      "Epoch 1/10\n",
      "107806/107806 [==============================] - 2192s 20ms/step - loss: 0.7427 - acc: 0.7060 - val_loss: 0.6082 - val_acc: 0.7658\n",
      "Epoch 2/10\n",
      "107806/107806 [==============================] - 2177s 20ms/step - loss: 0.5341 - acc: 0.8020 - val_loss: 0.5271 - val_acc: 0.8039\n",
      "Epoch 3/10\n",
      "107806/107806 [==============================] - 2172s 20ms/step - loss: 0.4339 - acc: 0.8444 - val_loss: 0.5324 - val_acc: 0.8056\n",
      "Epoch 4/10\n",
      "107806/107806 [==============================] - 2170s 20ms/step - loss: 0.3509 - acc: 0.8777 - val_loss: 0.5392 - val_acc: 0.8163\n",
      "Epoch 5/10\n",
      "107806/107806 [==============================] - 2166s 20ms/step - loss: 0.2844 - acc: 0.9029 - val_loss: 0.5681 - val_acc: 0.8139\n"
     ]
    }
   ],
   "source": [
    "batch_size = 64\n",
    "epochs = 10\n",
    "Model = model.fit([x_train_claim, x_train_evidence], all_labels, validation_split=0.1,\n",
    "          batch_size=batch_size,\n",
    "          epochs=epochs,\n",
    "          callbacks=[es],\n",
    "          shuffle=True)"
   ]
  },
  {
   "cell_type": "code",
   "execution_count": 53,
   "metadata": {
    "colab": {
     "base_uri": "https://localhost:8080/",
     "height": 404
    },
    "colab_type": "code",
    "id": "yWX1hqbJuE2G",
    "outputId": "4b64eb7b-b705-498d-ec15-77ea05ec4005"
   },
   "outputs": [
    {
     "data": {
      "image/png": "[encoded data removed]",
      "text/plain": [
       "<Figure size 600x400 with 1 Axes>"
      ]
     },
     "metadata": {
      "tags": []
     },
     "output_type": "display_data"
    }
   ],
   "source": [
    "import matplotlib.pyplot as plt\n",
    "plt.rcParams['figure.dpi'] = 100\n",
    "plt.figure()\n",
    "plt.plot(np.arange(0, 5)+1, Model.history[\"loss\"], label=\"train_loss\")\n",
    "plt.plot(np.arange(0, 5)+1, Model.history[\"val_loss\"], label=\"val_loss\")\n",
    "plt.plot(np.arange(0, 5)+1, Model.history[\"acc\"], label=\"train_acc\")\n",
    "plt.plot(np.arange(0, 5)+1, Model.history[\"val_acc\"], label=\"val_acc\")\n",
    "plt.title(\"Training Loss and Accuracy\")\n",
    "plt.xlabel(\"epoch\")\n",
    "plt.ylabel(\"loss/accuracy\")\n",
    "plt.legend(loc=\"lower left\")\n",
    "# plt.savefig('/gdrive/My Drive/glove.6B/plot.png')"
   ]
  },
  {
   "cell_type": "code",
   "execution_count": 36,
   "metadata": {
    "colab": {
     "base_uri": "https://localhost:8080/",
     "height": 69
    },
    "colab_type": "code",
    "id": "igGMUpwKyBtT",
    "outputId": "7e004de1-e357-4a93-a07d-c21313d21f6d"
   },
   "outputs": [
    {
     "name": "stdout",
     "output_type": "stream",
     "text": [
      "5001/5001 [==============================] - 72s 14ms/step\n",
      "Test loss :  0.9644639645069033\n",
      "Test accuracy :  0.6962607478563891\n"
     ]
    }
   ],
   "source": [
    "score = model.evaluate([x_dev_claim, x_dev_evidence], dev_labels, verbose=1)\n",
    "print('Test loss : ', score[0])\n",
    "print('Test accuracy : ', score[1])"
   ]
  },
  {
   "cell_type": "code",
   "execution_count": 0,
   "metadata": {
    "colab": {},
    "colab_type": "code",
    "id": "qlFD_mNk6uTL"
   },
   "outputs": [],
   "source": [
    "model.save_weights('ESIM.h5')\n",
    "# model.load_weights('/gdrive/My Drive/glove.6B/ESIM.h5')"
   ]
  },
  {
   "cell_type": "code",
   "execution_count": 0,
   "metadata": {
    "colab": {},
    "colab_type": "code",
    "id": "nSH1o_7fB-_d"
   },
   "outputs": [],
   "source": [
    "test_labels= model.predict([x_test_claim, x_test_evidence])"
   ]
  },
  {
   "cell_type": "code",
   "execution_count": 39,
   "metadata": {
    "colab": {
     "base_uri": "https://localhost:8080/",
     "height": 34
    },
    "colab_type": "code",
    "id": "79SabZryEqwH",
    "outputId": "e535ae14-d7af-423b-d238-96912fb75bfd"
   },
   "outputs": [
    {
     "data": {
      "text/plain": [
       "(0.0033289904, 0.019952858, 0.9767181)"
      ]
     },
     "execution_count": 39,
     "metadata": {
      "tags": []
     },
     "output_type": "execute_result"
    }
   ],
   "source": [
    "test_labels[0][0],test_labels[0][1],test_labels[0][2]"
   ]
  },
  {
   "cell_type": "code",
   "execution_count": 40,
   "metadata": {
    "colab": {
     "base_uri": "https://localhost:8080/",
     "height": 69
    },
    "colab_type": "code",
    "id": "HM5a-azA6a59",
    "outputId": "af7cfa8d-0942-48fc-85f5-382d8d07eff0"
   },
   "outputs": [
    {
     "name": "stdout",
     "output_type": "stream",
     "text": [
      "14997\n",
      "14997\n",
      "14997\n"
     ]
    }
   ],
   "source": [
    "print(len(test_claims))\n",
    "print(len(test_evidences))\n",
    "print(len(test_labels))"
   ]
  },
  {
   "cell_type": "code",
   "execution_count": 0,
   "metadata": {
    "colab": {},
    "colab_type": "code",
    "id": "Lg8JKnsp4zr1"
   },
   "outputs": [],
   "source": [
    "def label_decoding(label_list):\n",
    "    result = []\n",
    "    for values in label_list:\n",
    "        max_value = max(list(values))\n",
    "        index = list(values).index(max_value)\n",
    "        labels = ['SUPPORTS', 'REFUTES', 'NOT ENOUGH INFO']\n",
    "        result.append(labels[index])\n",
    "    return result"
   ]
  },
  {
   "cell_type": "code",
   "execution_count": 42,
   "metadata": {
    "colab": {
     "base_uri": "https://localhost:8080/",
     "height": 52
    },
    "colab_type": "code",
    "id": "1N4WUy-c7AJe",
    "outputId": "ef9475f1-d676-4cd7-8627-397f47d43d39"
   },
   "outputs": [
    {
     "name": "stdout",
     "output_type": "stream",
     "text": [
      "['NOT ENOUGH INFO', 'NOT ENOUGH INFO', 'SUPPORTS', 'REFUTES', 'NOT ENOUGH INFO']\n",
      "14997\n"
     ]
    }
   ],
   "source": [
    "decoded_test_labels = label_decoding(test_labels)\n",
    "print(decoded_test_labels[:5])\n",
    "print(len(decoded_test_labels))"
   ]
  },
  {
   "cell_type": "code",
   "execution_count": 0,
   "metadata": {
    "colab": {},
    "colab_type": "code",
    "id": "syoByY1w6V2T"
   },
   "outputs": [],
   "source": [
    "test_result_dic = {}\n",
    "for i in range(len(test_claims)) :\n",
    "    test_result_dic[test_claims[i]] = decoded_test_labels[i]"
   ]
  },
  {
   "cell_type": "code",
   "execution_count": null,
   "metadata": {},
   "outputs": [],
   "source": [
    "def title_id_processor(str):\n",
    "    title = str.split(' ')[0]\n",
    "    id = str.split(' ')[1]\n",
    "    return [title, id]\n",
    "\n",
    "def DumpJSONFile(file):\n",
    "    result = {}\n",
    "    with open(file, 'r') as f:\n",
    "        data = json.load(f)\n",
    "        for key, value in data.items():\n",
    "            temp = {}\n",
    "            evidence_list = []\n",
    "            print(key)\n",
    "            temp['claim'] = value['claim']\n",
    "            if len(value['evidence'])>0:\n",
    "                print(value['evidence'])\n",
    "                for evidence in value['evidence']:\n",
    "                    evidence_list.append(title_id_processor(evidence))\n",
    "            temp['evidence'] = evidence_list\n",
    "            result[key] = temp\n",
    "        f.close()\n",
    "    return result"
   ]
  },
  {
   "cell_type": "code",
   "execution_count": null,
   "metadata": {},
   "outputs": [],
   "source": [
    "loaded_result = DumpJSONFile(UNLABEL_PATH)\n",
    "with open('evidence_unlabelled.json', 'w') as f_out:\n",
    "    json.dump(loaded_result, f_out, indent=2)"
   ]
  },
  {
   "cell_type": "code",
   "execution_count": null,
   "metadata": {
    "colab": {
     "base_uri": "https://localhost:8080/",
     "height": 54
    },
    "colab_type": "code",
    "id": "ozTv6pf98SDn",
    "outputId": "f2077a5c-0635-439d-be9e-606fac03743e"
   },
   "outputs": [],
   "source": [
    "import json\n",
    "\n",
    "file_path = 'evidence_unlabelled.json'\n",
    "\n",
    "result = {}\n",
    "with open(file_path, 'r') as f:\n",
    "    data = json.load(f)\n",
    "def result_evidence_processing(evidence):\n",
    "    result = []\n",
    "    for temp in evidence:\n",
    "        result.append([temp[0], int(temp[1])])\n",
    "    return result"
   ]
  },
  {
   "cell_type": "code",
   "execution_count": 0,
   "metadata": {
    "colab": {},
    "colab_type": "code",
    "id": "Z_bPjdLn9A-K"
   },
   "outputs": [],
   "source": [
    "result = {}\n",
    "for key, value in data.items():\n",
    "    temp = {}\n",
    "    temp['claim'] = value['claim']\n",
    "    evidence = result_evidence_processing(value['evidence'])\n",
    "    temp['label'] = test_result_dic[temp['claim']]\n",
    "    temp['evidence'] = evidence\n",
    "    result[key] = temp\n",
    "\n",
    "with open('testoutput.json', 'w') as f_out:\n",
    "    json.dump(result, f_out, indent=2)"
   ]
  }
 ],
 "metadata": {
  "accelerator": "GPU",
  "colab": {
   "collapsed_sections": [],
   "name": "WSTA_project.ipynb",
   "provenance": [],
   "version": "0.3.2"
  },
  "kernelspec": {
   "display_name": "Python 3",
   "language": "python",
   "name": "python3"
  },
  "language_info": {
   "codemirror_mode": {
    "name": "ipython",
    "version": 3
   },
   "file_extension": ".py",
   "mimetype": "text/x-python",
   "name": "python",
   "nbconvert_exporter": "python",
   "pygments_lexer": "ipython3",
   "version": "3.7.2"
  },
  "pycharm": {
   "stem_cell": {
    "cell_type": "raw",
    "source": [],
    "metadata": {
     "collapsed": false
    }
   }
  }
 },
 "nbformat": 4,
 "nbformat_minor": 1
}