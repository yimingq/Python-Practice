{
 "cells": [
  {
   "cell_type": "markdown",
   "metadata": {},
   "source": [
    "# COMP90051 Project 2"
   ]
  },
  {
   "cell_type": "code",
   "execution_count": 2,
   "metadata": {},
   "outputs": [],
   "source": [
    "# Do not edit. These are the only imports permitted.\n",
    "%matplotlib inline\n",
    "import numpy as np\n",
    "from numpy.linalg import inv\n",
    "import matplotlib.pyplot as plt\n",
    "from abc import ABC, abstractmethod"
   ]
  },
  {
   "cell_type": "markdown",
   "metadata": {},
   "source": [
    "## 1. Implement ε-Greedy and UCB"
   ]
  },
  {
   "cell_type": "code",
   "execution_count": 3,
   "metadata": {},
   "outputs": [],
   "source": [
    "class MAB(ABC):\n",
    "    \"\"\"\n",
    "    Abstract class that represents a multi-armed bandit (MAB)\n",
    "    \"\"\"\n",
    "    @abstractmethod\n",
    "    def play(self, tround, context):\n",
    "        pass\n",
    "    @abstractmethod\n",
    "    def update(self, arm, reward, context):\n",
    "        pass\n"
   ]
  },
  {
   "cell_type": "code",
   "execution_count": 4,
   "metadata": {},
   "outputs": [],
   "source": [
    "class EpsGreedy(MAB):\n",
    "    def __init__(self, narms, epsilon, Q0=np.inf):\n",
    "        self.narms, self.epsilon, self.Q0 = narms,epsilon, Q0\n",
    "        self.arm_dict=dict.fromkeys(range(1, narms+1), self.Q0)\n",
    "        self.arm_list =[x for x in range(1,narms+1)]\n",
    "        self.values = [[]for i in self.arm_list]\n",
    "        self.reward_list=[]\n",
    "    def play(self, tround, context=None):\n",
    "        mu = self.Q0\n",
    "        if np.random.random() > self.epsilon:\n",
    "            for i,value in enumerate(self.values):\n",
    "                mu = self.arm_dict[i+1]\n",
    "            max_mean_value = max(self.arm_dict.values())    \n",
    "            max_arm_list = []\n",
    "            for max_arm in self.arm_dict:\n",
    "                if self.arm_dict[max_arm]==max_mean_value:\n",
    "                    max_arm_list.append(max_arm)\n",
    "            selection = np.random.choice(max_arm_list)\n",
    "            return selection  \n",
    "        else:\n",
    "            temp_arm = np.random.randint(1,self.narms+1)\n",
    "            return temp_arm\n",
    "    def update(self, arm, reward, context=None):\n",
    "        self.values[arm-1].append(reward)\n",
    "        self.reward_list.append(reward)\n",
    "        self.arm_dict[arm]=np.mean(self.values[arm-1])"
   ]
  },
  {
   "cell_type": "code",
   "execution_count": 5,
   "metadata": {},
   "outputs": [],
   "source": [
    "class UCB(MAB):\n",
    "    def __init__(self, narms, rho, Q0=np.inf):\n",
    "        self.narms,self.rho,self.Q0 = narms,rho, Q0\n",
    "        self.arm_dict=dict.fromkeys(range(1, narms+1), self.Q0)\n",
    "        self.arm_list =[x for x in range(1,narms+1)]\n",
    "        self.values = [[]for i in self.arm_list]\n",
    "        self.reward_list=[]\n",
    "        \n",
    "    def play(self, tround, context=None):\n",
    "        mu = self.Q0\n",
    "        for i,value in enumerate(self.values):\n",
    "            if self.arm_dict[i+1]!=self.Q0:\n",
    "                mu = np.mean(value)+(self.rho*np.log(tround)/len(value))**0.5\n",
    "                self.arm_dict[i+1]= mu\n",
    "            else:\n",
    "                max_mean_value =self.Q0\n",
    "        max_mean_value = max(self.arm_dict.values())\n",
    "        max_arm_list = []\n",
    "        for max_arm in self.arm_dict:\n",
    "            if self.arm_dict[max_arm]==max_mean_value:\n",
    "                max_arm_list.append(max_arm)\n",
    "        selection = np.random.choice(max_arm_list)\n",
    "        return selection \n",
    "    def update(self, arm, reward, context=None):\n",
    "        self.values[arm-1].append(reward)\n",
    "        self.reward_list.append(reward)\n",
    "        self.arm_dict[arm]=np.mean(self.values[arm-1])"
   ]
  },
  {
   "cell_type": "markdown",
   "metadata": {},
   "source": [
    "## 2. Off-Policy Evaluation"
   ]
  },
  {
   "cell_type": "code",
   "execution_count": 6,
   "metadata": {},
   "outputs": [],
   "source": [
    "file = np.loadtxt('dataset.txt')\n",
    "arms = file[:,0]\n",
    "rewards = file[:,1]\n",
    "contexts = file[:,2:102]"
   ]
  },
  {
   "cell_type": "code",
   "execution_count": 7,
   "metadata": {},
   "outputs": [],
   "source": [
    "def offlineEvaluate(mab, arms, rewards, contexts, nrounds=None):\n",
    "    arms_index = 0\n",
    "    for t in range(nrounds):\n",
    "        while arms_index<10000:\n",
    "            if arms[arms_index] == mab.play(t,contexts[arms_index]):\n",
    "                mab.update(int(arms[arms_index]),int(rewards[arms_index]),contexts[arms_index])\n",
    "                arms_index+=1\n",
    "                break\n",
    "            else:\n",
    "                arms_index+=1\n",
    "                continue\n",
    "        if arms_index>=len(arms):\n",
    "            break\n",
    "    return mab.reward_list"
   ]
  },
  {
   "cell_type": "code",
   "execution_count": 9,
   "metadata": {},
   "outputs": [
    {
     "name": "stdout",
     "output_type": "stream",
     "text": [
      "EpsGreedy average reward 0.27625\n"
     ]
    }
   ],
   "source": [
    "mab_EpsGreedy = EpsGreedy(10, 0.05)\n",
    "results_EpsGreedy = offlineEvaluate(mab_EpsGreedy, arms, rewards, contexts, 800)\n",
    "print('EpsGreedy average reward', np.mean(results_EpsGreedy))"
   ]
  },
  {
   "cell_type": "code",
   "execution_count": 10,
   "metadata": {},
   "outputs": [
    {
     "name": "stdout",
     "output_type": "stream",
     "text": [
      "UCB average reward 0.15\n"
     ]
    }
   ],
   "source": [
    "mab_UCB = UCB(10, 1.0)\n",
    "results_UCB = offlineEvaluate(mab_UCB, arms, rewards, contexts, 800)\n",
    "print('UCB average reward', np.mean(results_UCB))"
   ]
  },
  {
   "cell_type": "markdown",
   "metadata": {},
   "source": [
    "## 3. Contextual Bandits"
   ]
  },
  {
   "cell_type": "code",
   "execution_count": 11,
   "metadata": {},
   "outputs": [],
   "source": [
    "class LinUCB(MAB):\n",
    "    def __init__(self, narms, ndims, alpha):\n",
    "        self.narms,self.ndims,self.alpha= narms,ndims,alpha\n",
    "        self.A =dict.fromkeys(range(1, narms+1), np.eye(self.ndims))\n",
    "        self.b =dict.fromkeys(range(1, narms+1), np.zeros(self.ndims).reshape((self.ndims,1)))\n",
    "        self.arm_list =[x for x in range(1,narms+1)]\n",
    "        self.reward_list=[]\n",
    "    def play(self, tround, context):\n",
    "        self.arm_context_list=context.reshape((self.narms,self.ndims))\n",
    "        arm_context_dict={}\n",
    "        for armid in self.arm_list:       \n",
    "            Xta=self.arm_context_list[armid-1].reshape(self.narms,1)\n",
    "            Theta = (inv(self.A[armid]))@self.b[armid]\n",
    "            Pta=float(Theta.T@Xta+ self.alpha*np.sqrt(Xta.T@(inv(self.A[armid]))@Xta))\n",
    "            arm_context_dict[armid]=Pta\n",
    "        max_Pta = max(arm_context_dict.values())\n",
    "        max_arm_list = []\n",
    "        for max_arm in arm_context_dict:\n",
    "            if arm_context_dict[max_arm]==max_Pta:\n",
    "                max_arm_list.append(max_arm)\n",
    "        return np.random.choice(max_arm_list)\n",
    "    def update(self, arm, reward, context):\n",
    "        self.reward_list.append(reward)\n",
    "        Xta = self.arm_context_list[arm-1].reshape((self.ndims,1))\n",
    "        self.A[arm] = self.A[arm] + Xta@Xta.T\n",
    "        self.b[arm] = self.b[arm] + reward*Xta"
   ]
  },
  {
   "cell_type": "code",
   "execution_count": 12,
   "metadata": {},
   "outputs": [
    {
     "name": "stdout",
     "output_type": "stream",
     "text": [
      "LinUCB average reward 0.53\n"
     ]
    }
   ],
   "source": [
    "mab_LinUCB = LinUCB(10, 10, 1.0)\n",
    "results_LinUCB = offlineEvaluate(mab_LinUCB, arms, rewards, contexts, 800)\n",
    "print('LinUCB average reward', np.mean(results_LinUCB))"
   ]
  },
  {
   "cell_type": "markdown",
   "metadata": {},
   "source": []
  },
  {
   "cell_type": "markdown",
   "metadata": {},
   "source": [
    "## 4. Evaluation\n",
    "### 4.A."
   ]
  },
  {
   "cell_type": "code",
   "execution_count": null,
   "metadata": {},
   "outputs": [],
   "source": []
  },
  {
   "cell_type": "code",
   "execution_count": null,
   "metadata": {},
   "outputs": [],
   "source": [
    "# def plotFigure(mabRewardList):\n",
    "#     X, Y= [X for X in range(1,len(mabRewardList)+1)], []\n",
    "#     temp_mean = []\n",
    "#     temp_y = mabRewardList\n",
    "#     for y in temp_y:\n",
    "#         temp_y.append(y)\n",
    "#         Y.append(np.mean(temp_y))\n",
    "#     return X,Y\n",
    "\n",
    "X, Y= [X for X in range(1,len(mab_LinUCB.reward_list)+1)], []\n",
    "temp_mean = []\n",
    "temp_y = mab_LinUCB.reward_list\n",
    "for y in temp_y:\n",
    "    temp_y.append(y)\n",
    "    Y.append(np.mean(temp_y))\n",
    "# X,Y = plotFigure(mab_LinUCB.reward_list)\n",
    "plt.plot(X,Y,label=\"1\",c=\"r\")\n",
    "plt.show()"
   ]
  },
  {
   "cell_type": "markdown",
   "metadata": {},
   "source": [
    "### 4.B."
   ]
  },
  {
   "cell_type": "code",
   "execution_count": null,
   "metadata": {},
   "outputs": [],
   "source": []
  },
  {
   "cell_type": "markdown",
   "metadata": {},
   "source": [
    "## 5. KernelUCB"
   ]
  },
  {
   "cell_type": "code",
   "execution_count": null,
   "metadata": {},
   "outputs": [],
   "source": [
    "# Do not edit. Special import for this section.\n",
    "from sklearn.metrics.pairwise import rbf_kernel"
   ]
  },
  {
   "cell_type": "code",
   "execution_count": null,
   "metadata": {},
   "outputs": [],
   "source": [
    "class KernelUCB(MAB):\n",
    "    \"\"\"\n",
    "    Kernelised contextual multi-armed bandit (Kernelised LinUCB)\n",
    "    \n",
    "    Arguments\n",
    "    =========\n",
    "    narms : int\n",
    "        number of arms\n",
    "\n",
    "    ndims : int\n",
    "        number of dimensions for each arm's context\n",
    "\n",
    "    gamma : float\n",
    "        positive real explore-exploit parameter\n",
    "    \n",
    "    eta : float\n",
    "        positive real explore-exploit parameter\n",
    "    \n",
    "    kern : callable\n",
    "        a kernel function from sklearn.metrics.pairwise\n",
    "    \"\"\"\n",
    "    def __init__(self, narms, ndims, gamma, eta, kern):\n",
    "        \n",
    "    \n",
    "    def play(self, tround, context):\n",
    "        \n",
    "    \n",
    "    def update(self, arm, reward, context):\n",
    "        \n",
    "    "
   ]
  }
 ],
 "metadata": {
  "kernelspec": {
   "display_name": "Python 3",
   "language": "python",
   "name": "python3"
  },
  "language_info": {
   "codemirror_mode": {
    "name": "ipython",
    "version": 3
   },
   "file_extension": ".py",
   "mimetype": "text/x-python",
   "name": "python",
   "nbconvert_exporter": "python",
   "pygments_lexer": "ipython3",
   "version": "3.5.5"
  }
 },
 "nbformat": 4,
 "nbformat_minor": 2
}
