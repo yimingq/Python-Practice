{
 "cells": [
  {
   "cell_type": "markdown",
   "metadata": {},
   "source": [
    "# Homework 2: Word Similarity"
   ]
  },
  {
   "cell_type": "markdown",
   "metadata": {
    "collapsed": true
   },
   "source": [
    "Student Name: Yiming Qiu\n",
    "\n",
    "Student ID: 806719"
   ]
  },
  {
   "cell_type": "markdown",
   "metadata": {},
   "source": [
    "## General info"
   ]
  },
  {
   "cell_type": "markdown",
   "metadata": {},
   "source": [
    "<b>Due date</b>: Thursday, 18 Apr 2019 4pm\n",
    "\n",
    "<b>Submission method</b>: see LMS\n",
    "\n",
    "<b>Submission materials</b>: completed copy of this iPython notebook\n",
    "\n",
    "<b>Late submissions</b>: -20% per day\n",
    "\n",
    "<b>Marks</b>: 7% of mark for class (with 6% on correctness + 1% on quality and efficiency of your code)\n",
    "\n",
    "<b>Materials</b>: See the main class LMS page for information on the basic setup required for this class, including an iPython notebook viewer and the python packages NLTK, Numpy, Scipy, Matplotlib and Scikit-Learn. In particular, if you are not using a lab computer which already has it installed, we recommend installing all the data for NLTK, since you will need various parts of it to complete this assignment. You can also use any Python built-in packages, but do not use any other 3rd party packages; if your iPython notebook doesn't run on the marker's machine, you will lose marks. <b> You should use Python 3</b>. \n",
    "\n",
    "To familiarize yourself with NLTK, here is a free online book:  Steven Bird, Ewan Klein, and Edward Loper (2009). <a href=http://nltk.org/book>Natural Language Processing with Python</a>. O'Reilly Media Inc. You may also consult the <a href=https://www.nltk.org/api/nltk.html>NLTK API</a>.\n",
    "\n",
    "<b>Evaluation</b>: Your iPython notebook should run end-to-end without any errors in a reasonable amount of time, and you must follow all instructions provided below, including specific implementation requirements and instructions for what needs to be printed (please avoid printing output we don't ask for). You should edit the sections below where requested, but leave the rest of the code as is. You should leave the output from running your code in the iPython notebook you submit, to assist with marking. The amount each section is worth is given in parenthesis after the instructions. \n",
    "\n",
    "You will be marked not only on the correctness of your methods, but also the quality and efficency of your code: in particular, you should be careful to use Python built-in functions and operators when appropriate and pick descriptive variable names that adhere to <a href=\"https://www.python.org/dev/peps/pep-0008/\">Python style requirements</a>. If you think it might be unclear what you are doing, you should comment your code to help the marker make sense of it.\n",
    "\n",
    "<b>Updates</b>: Any major changes to the assignment will be announced via LMS. Minor changes and clarifications will be announced in the forum on LMS, we recommend you check the forum regularly.\n",
    "\n",
    "<b>Academic Misconduct</b>: For most people, collaboration will form a natural part of the undertaking of this homework, and we encourge you to discuss it in general terms with other students. However, this ultimately is still an individual task, and so reuse of code or other instances of clear influence will be considered cheating. We will be checking submissions for originality and will invoke the University’s <a href=\"http://academichonesty.unimelb.edu.au/policy.html\">Academic Misconduct policy</a> where inappropriate levels of collusion or plagiarism are deemed to have taken place."
   ]
  },
  {
   "cell_type": "markdown",
   "metadata": {},
   "source": [
    "## Overview"
   ]
  },
  {
   "cell_type": "markdown",
   "metadata": {},
   "source": [
    "In this homework, you'll be quantifying the similarity between pairs of words of a dataset using different methods with the word co-occurrence in the Brown corpus and synset structure of WordNet. Firstly, you will preprocess the dataset to filter out the rare and ambiguous words. Secondly, you will calculate the similarity scores for pairs of words in the filtered dateset using Lin similarity, NPMI and LSA. Lastly, you will quantify how well these methods work by comparing to a human annotated gold-standard."
   ]
  },
  {
   "cell_type": "markdown",
   "metadata": {},
   "source": [
    "## 1. Preprocessing (2 marks)"
   ]
  },
  {
   "cell_type": "markdown",
   "metadata": {
    "collapsed": true
   },
   "source": [
    "<b>Instructions</b>: For this homework we will be comparing our methods against a popular dataset of word similarities called <a href=\"http://www.cs.technion.ac.il/~gabr/resources/data/wordsim353/\">Similarity-353</a>. You need to first obtain this dataset, which is available on LMS. The file we will be using is called *set1.tab*. Make sure you save this in the same folder as the notebook.  Except for the header (which should be stripped out), the file is tab formated with the first two columns corresponding to two words, and the third column representing a human-annotated similarity between the two words. <b>You should ignore the subsequent columns</b>.\n",
    "\n",
    "Here shows the first six lines of the file:\n",
    "\n",
    "```\n",
    "Word 1\tWord 2\tHuman (mean)\t1\t2\t3\t4\t5\t6\t7\t8\t9\t10\t11\t12\t13\t\n",
    "love\tsex\t6.77\t9\t6\t8\t8\t7\t8\t8\t4\t7\t2\t6\t7\t8\t\n",
    "tiger\tcat\t7.35\t9\t7\t8\t7\t8\t9\t8.5\t5\t6\t9\t7\t5\t7\t\n",
    "tiger\ttiger\t10.00\t10\t10\t10\t10\t10\t10\t10\t10\t10\t10\t10\t10\t10\t\n",
    "book\tpaper\t7.46\t8\t8\t7\t7\t8\t9\t7\t6\t7\t8\t9\t4\t9\t\n",
    "computer\tkeyboard\t7.62\t8\t7\t9\t9\t8\t8\t7\t7\t6\t8\t10\t3\t9\t\n",
    "```\n",
    "    \n",
    "You should load this file into a Python dictionary (NOTE: in Python, tuples of strings, i.e. (\"tiger\",\"cat\") can serve as the keys of a dictionary to map to their human-annotated similarity). This dataset contains many rare words: we need to filter this dataset in order for it to be better suited to the resources we will use in this assignment. So your first goal is to filter this dataset to generate a smaller test set where you will evaluate your word similarity methods.\n",
    "\n",
    "The first filtering is based on document frequencies in the Brown corpus, in order to remove rare words. In this homework, we will be treating the paragraphs of the Brown corpus as our \"documents\". You can iterate over them by using the `paras` method of the corpus reader. You should remove tokens that are not alphabetic. Tokens should be lower-cased and lemmatized. Now calculate document frequencies for each word type, and use this to remove from your word similarity data any word pairs where at least one of the two words has a document frequency of less than 8 in this corpus.\n",
    "\n",
    "For this part, you should store all the word pair and similarity mappings in your filtered test set in a dictionary called *filtered_gold_standard*. You may check the section, <i>\"For your testing\"</i>, below for the expected *filtered_gold_standard*.\n",
    "\n",
    "(1 mark)"
   ]
  },
  {
   "cell_type": "code",
   "execution_count": 1,
   "metadata": {
    "scrolled": false
   },
   "outputs": [
    {
     "name": "stderr",
     "output_type": "stream",
     "text": [
      "[nltk_data] Downloading package brown to /Users/yimingqiu/nltk_data...\n",
      "[nltk_data]   Package brown is already up-to-date!\n",
      "[nltk_data] Downloading package wordnet to\n",
      "[nltk_data]     /Users/yimingqiu/nltk_data...\n",
      "[nltk_data]   Package wordnet is already up-to-date!\n"
     ]
    },
    {
     "name": "stdout",
     "output_type": "stream",
     "text": [
      "94\n",
      "{('love', 'sex'): 6.77, ('tiger', 'cat'): 7.35, ('tiger', 'tiger'): 10.0, ('book', 'paper'): 7.46, ('plane', 'car'): 5.77, ('train', 'car'): 6.31, ('telephone', 'communication'): 7.5, ('television', 'radio'): 6.77, ('drug', 'abuse'): 6.85, ('bread', 'butter'): 6.19, ('doctor', 'nurse'): 7.0, ('professor', 'doctor'): 6.62, ('student', 'professor'): 6.81, ('smart', 'student'): 4.62, ('smart', 'stupid'): 5.81, ('company', 'stock'): 7.08, ('stock', 'market'): 8.08, ('stock', 'phone'): 1.62, ('stock', 'egg'): 1.81, ('stock', 'live'): 3.73, ('stock', 'life'): 0.92, ('book', 'library'): 7.46, ('bank', 'money'): 8.12, ('wood', 'forest'): 7.73, ('money', 'cash'): 9.08, ('king', 'queen'): 8.58, ('bishop', 'rabbi'): 6.69, ('holy', 'sex'): 1.62, ('football', 'basketball'): 6.81, ('football', 'tennis'): 6.63, ('tennis', 'racket'): 7.56, ('law', 'lawyer'): 8.38, ('movie', 'star'): 7.38, ('movie', 'critic'): 6.73, ('movie', 'theater'): 7.92, ('space', 'chemistry'): 4.88, ('alcohol', 'chemistry'): 5.54, ('drink', 'car'): 3.04, ('drink', 'ear'): 1.31, ('drink', 'mouth'): 5.96, ('drink', 'eat'): 6.87, ('baby', 'mother'): 7.85, ('drink', 'mother'): 2.65, ('car', 'automobile'): 8.94, ('journey', 'voyage'): 9.29, ('coast', 'shore'): 9.1, ('food', 'fruit'): 7.52, ('bird', 'cock'): 7.1, ('tool', 'implement'): 6.46, ('brother', 'monk'): 6.27, ('journey', 'car'): 5.85, ('coast', 'hill'): 4.38, ('forest', 'graveyard'): 1.85, ('monk', 'slave'): 0.92, ('coast', 'forest'): 3.15, ('chord', 'smile'): 0.54, ('noon', 'string'): 0.54, ('money', 'dollar'): 8.42, ('money', 'currency'): 9.04, ('money', 'wealth'): 8.27, ('money', 'property'): 7.57, ('money', 'possession'): 7.29, ('money', 'bank'): 8.5, ('money', 'deposit'): 7.73, ('money', 'operation'): 3.31, ('tiger', 'animal'): 7.0, ('tiger', 'organism'): 4.77, ('tiger', 'zoo'): 5.87, ('psychology', 'anxiety'): 7.0, ('psychology', 'fear'): 6.85, ('psychology', 'depression'): 7.42, ('psychology', 'doctor'): 6.42, ('psychology', 'mind'): 7.69, ('psychology', 'health'): 7.23, ('psychology', 'science'): 6.71, ('psychology', 'discipline'): 5.58, ('planet', 'star'): 8.45, ('planet', 'moon'): 8.08, ('planet', 'sun'): 8.02, ('planet', 'galaxy'): 8.11, ('planet', 'space'): 7.92, ('precedent', 'example'): 5.85, ('precedent', 'information'): 3.85, ('precedent', 'law'): 6.65, ('precedent', 'collection'): 2.5, ('precedent', 'group'): 1.77, ('cup', 'coffee'): 6.58, ('cup', 'article'): 2.4, ('cup', 'object'): 3.69, ('cup', 'entity'): 2.15, ('cup', 'drink'): 7.25, ('cup', 'food'): 5.0, ('cup', 'substance'): 1.92, ('cup', 'liquid'): 5.9}\n"
     ]
    }
   ],
   "source": [
    "import nltk\n",
    "from nltk.corpus import brown\n",
    "from nltk.corpus import wordnet\n",
    "\n",
    "nltk.download(\"brown\")\n",
    "nltk.download(\"wordnet\")\n",
    "\n",
    "# filtered_gold_standard stores the word pairs and their human-annotated similarity in your filtered test set\n",
    "filtered_gold_standard = {}\n",
    "\n",
    "###\n",
    "# Your answer BEGINS HERE\n",
    "###\n",
    "\n",
    "\"\"\"\n",
    "Variables:\n",
    "    para: brown corpus\n",
    "    cnt: word count in brown corpus\n",
    "    words_in_para: temporay set variable, store the words in a paragragh\n",
    "    \n",
    "local variables: \n",
    "    words_in_para: a set of words in a paragraph\n",
    "    \n",
    "lemmatize function:\n",
    "    input: string word\n",
    "    return: string lemma\n",
    "\n",
    "Firstly extract word from brown corpus, after lemmatization, store the count in 'cnt'.\n",
    "Then filter the words in 'set1.tab'\n",
    "\n",
    "The method of lemmatize is based on the reply on discussion board by Ekaterina Vylomova\n",
    "\"\"\"\n",
    "from collections import Counter\n",
    "\n",
    "def lemmatize(word):\n",
    "    lemma = lemmatizer.lemmatize(word,'v')\n",
    "    if lemma == word:\n",
    "        lemma = lemmatizer.lemmatize(word,'n')\n",
    "    return lemma\n",
    "    \n",
    "\n",
    "lemmatizer = nltk.stem.WordNetLemmatizer()\n",
    "cnt = Counter()\n",
    "\n",
    "\n",
    "para = brown.paras()\n",
    "para_num = len(para) \n",
    "COUNT = 1\n",
    "\n",
    "for paragraph in para:\n",
    "    COUNT+=1\n",
    "    words_in_para = set()\n",
    "    for i in range(len(paragraph)):\n",
    "        \n",
    "        # paragraph[i] is a sentence\n",
    "        for word in paragraph[i]:\n",
    "\n",
    "            word = lemmatize(word.lower())\n",
    "            words_in_para.add(word)\n",
    "    \n",
    "    for word in words_in_para:\n",
    "        if word.isalpha():\n",
    "            cnt[word] += 1\n",
    "\n",
    "with open('set1.tab') as file:\n",
    "    file = file.read()\n",
    "    \n",
    "lines = file.split('\\n')\n",
    "\n",
    "for i in range(0,len(lines)):\n",
    "    lines[i]=lines[i].split('\\t')\n",
    "    if len(lines[i])>2:\n",
    "        word_1 =lines[i][0]\n",
    "        word_2 =lines[i][1]\n",
    "        if cnt[word_1]>=8 and cnt[word_2]>=8:\n",
    "            score = lines[i][2]\n",
    "            filtered_gold_standard[(word_1,word_2)] = float(score)\n",
    "        \n",
    "###\n",
    "# Your answer ENDS HERE\n",
    "###\n",
    "\n",
    "print(len(filtered_gold_standard))\n",
    "print(filtered_gold_standard)\n"
   ]
  },
  {
   "cell_type": "markdown",
   "metadata": {},
   "source": [
    "<b>For your testing: </b>"
   ]
  },
  {
   "cell_type": "code",
   "execution_count": 3,
   "metadata": {},
   "outputs": [],
   "source": [
    "assert(len(filtered_gold_standard) > 50 and len(filtered_gold_standard) < 100)"
   ]
  },
  {
   "cell_type": "code",
   "execution_count": 4,
   "metadata": {},
   "outputs": [],
   "source": [
    "assert(filtered_gold_standard[('love', 'sex')] == 6.77)"
   ]
  },
  {
   "cell_type": "markdown",
   "metadata": {},
   "source": [
    "<b>Instructions</b>: Here, you apply the second filtering. The second filtering is based on words with highly ambiguous senses and involves using the NLTK interface to WordNet. Here, you should remove any words which do not have a *single primary sense*. We define single primary sense here as either a) having only one sense (i.e. only one synset), or b) where the count (as provided by the WordNet `count()` method for the lemmas associated with a synset) of the most common sense is at least 4 times larger than the next most common sense. Note that a synset can be associated with multiple lemmas. You should only consider the count of your lemma. Also, you should remove any words where the primary sense is not a noun (this information is also in the synset). Store the synset corresponding to this primary sense in a dictionary for use in the next section. Given this definition, remove the word pairs from the test set where at least one of the words does not meet the above criteria.\n",
    "\n",
    "When you have applied the two filtering steps, you should store all the word pair and similarity mappings in your filtered test set in a dictionary called *final_gold_standard*. You may check the section, <i>\"For your testing\"</i>, below for the expected *final_gold_standard*.\n",
    "\n",
    "(1 mark)"
   ]
  },
  {
   "cell_type": "code",
   "execution_count": 5,
   "metadata": {
    "scrolled": false
   },
   "outputs": [
    {
     "name": "stdout",
     "output_type": "stream",
     "text": [
      "26\n",
      "{('bread', 'butter'): 6.19, ('professor', 'doctor'): 6.62, ('student', 'professor'): 6.81, ('stock', 'egg'): 1.81, ('money', 'cash'): 9.08, ('king', 'queen'): 8.58, ('bishop', 'rabbi'): 6.69, ('football', 'basketball'): 6.81, ('football', 'tennis'): 6.63, ('alcohol', 'chemistry'): 5.54, ('baby', 'mother'): 7.85, ('car', 'automobile'): 8.94, ('journey', 'voyage'): 9.29, ('coast', 'shore'): 9.1, ('brother', 'monk'): 6.27, ('journey', 'car'): 5.85, ('coast', 'hill'): 4.38, ('forest', 'graveyard'): 1.85, ('monk', 'slave'): 0.92, ('coast', 'forest'): 3.15, ('psychology', 'doctor'): 6.42, ('psychology', 'mind'): 7.69, ('psychology', 'health'): 7.23, ('psychology', 'science'): 6.71, ('planet', 'moon'): 8.08, ('planet', 'galaxy'): 8.11}\n"
     ]
    }
   ],
   "source": [
    "# final_gold_standard stores the word pairs and their human-annotated similarity in your final filtered test set\n",
    "final_gold_standard = {}\n",
    "\n",
    "###\n",
    "# Your answer BEGINS HERE\n",
    "###\n",
    "\n",
    "\"\"\"\n",
    "Variable:\n",
    "    primary_synset: dictionary of word and its synset(primary sense)\n",
    "    word_set: a set of words in filtered_gold_standard\n",
    "    filtered_word: a set of words after filtered\n",
    "    \n",
    "local viable:\n",
    "    lemma_list: a list of lemmas info for a word. List item: tuple (lemma.synset().name, lemma.count())\n",
    "    \n",
    "firstly, get the 'word_set', then filter words from it, finally filter the 'filtered_gold_standard' use 'filtered_word'\n",
    "\"\"\"\n",
    "primary_synset = {}\n",
    "filtered_word = set()\n",
    "word_set = set()\n",
    "\n",
    "for pair in filtered_gold_standard:\n",
    "    word_set.add(pair[0])\n",
    "    word_set.add(pair[1])\n",
    "\n",
    "for word in word_set:\n",
    "    synsets = wordnet.synsets(word)\n",
    "    if (len(synsets)==1)and synsets[0].pos()=='n':\n",
    "        filtered_word.add(word)\n",
    "        primary_synset[word]=synsets[0]\n",
    "\n",
    "    else:\n",
    "        lemma_list=[]\n",
    "        for lemma in wordnet.lemmas(word):\n",
    "            lemma_list.append((lemma.synset().name(),lemma.count()))\n",
    "            \n",
    "        # sort the lemma_list based on the count to find the primary sense\n",
    "        \n",
    "        lemma_list.sort(key=lambda tup: tup[1],reverse=True)  \n",
    "\n",
    "        if (lemma_list[0][1]>=(lemma_list[1][1]*4))and (wordnet.synset(lemma_list[0][0]).pos()=='n'):\n",
    "            filtered_word.add(word)\n",
    "            primary_synset[word]=wordnet.synset(lemma_list[0][0])\n",
    "\n",
    "for pair in filtered_gold_standard:\n",
    "    if (pair[0] in filtered_word) and (pair[1] in filtered_word):\n",
    "        final_gold_standard[pair] = filtered_gold_standard[pair]\n",
    "    ###\n",
    "# Your answer ENDS HERE\n",
    "###\n",
    "\n",
    "print(len(final_gold_standard))\n",
    "print(final_gold_standard)"
   ]
  },
  {
   "cell_type": "markdown",
   "metadata": {},
   "source": [
    "<b>For your testing:</b>"
   ]
  },
  {
   "cell_type": "code",
   "execution_count": 6,
   "metadata": {},
   "outputs": [],
   "source": [
    "assert(len(final_gold_standard) > 10 and len(final_gold_standard) < 40)"
   ]
  },
  {
   "cell_type": "code",
   "execution_count": 7,
   "metadata": {},
   "outputs": [],
   "source": [
    "assert(final_gold_standard[('professor', 'doctor')] == 6.62)"
   ]
  },
  {
   "cell_type": "markdown",
   "metadata": {},
   "source": [
    "## 2. Word similiarity scores with Lin similarity, NPMI and LSA (3 marks)"
   ]
  },
  {
   "cell_type": "markdown",
   "metadata": {},
   "source": [
    "<b>Instructions</b>: Now you will create several dictionaries with similarity scores for pairs of words in your test set derived using the techniques discussed in class. The first of these is the Lin similarity for your word pairs using the information content of the Brown corpus, which you should calculate using the primary sense for each word derived above. You can use the built-in method included in the NLTK interface, you don't have to implement your own. \n",
    "\n",
    "When you're done, you should store the word pair and similarity mappings in a dictionary called *lin_similarities*. You may check the section, <i>\"For your testing\"</i>, below for the expected *lin_similarities*. \n",
    "\n",
    "(1 mark)"
   ]
  },
  {
   "cell_type": "code",
   "execution_count": 8,
   "metadata": {
    "scrolled": true
   },
   "outputs": [
    {
     "name": "stderr",
     "output_type": "stream",
     "text": [
      "[nltk_data] Downloading package wordnet_ic to\n",
      "[nltk_data]     /Users/yimingqiu/nltk_data...\n",
      "[nltk_data]   Package wordnet_ic is already up-to-date!\n"
     ]
    },
    {
     "name": "stdout",
     "output_type": "stream",
     "text": [
      "{('bread', 'butter'): 0.711420490146294, ('professor', 'doctor'): 0.7036526610448273, ('student', 'professor'): 0.26208607023317687, ('stock', 'egg'): -0.0, ('money', 'cash'): 0.7888839126424345, ('king', 'queen'): 0.25872135992145145, ('bishop', 'rabbi'): 0.6655650900427844, ('football', 'basketball'): 0.7536025025710653, ('football', 'tennis'): 0.7699955045932811, ('alcohol', 'chemistry'): 0.062235427146896456, ('baby', 'mother'): 0.6315913189894092, ('car', 'automobile'): 1.0, ('journey', 'voyage'): 0.6969176573027711, ('coast', 'shore'): 0.9632173804623256, ('brother', 'monk'): 0.24862817480738675, ('journey', 'car'): -0.0, ('coast', 'hill'): 0.5991131628821826, ('forest', 'graveyard'): -0.0, ('monk', 'slave'): 0.2543108201944307, ('coast', 'forest'): -0.0, ('psychology', 'doctor'): -0.0, ('psychology', 'mind'): 0.304017384194818, ('psychology', 'health'): 0.06004979886905243, ('psychology', 'science'): 0.8474590505736942, ('planet', 'moon'): 0.7808882364067532, ('planet', 'galaxy'): -0.0}\n"
     ]
    }
   ],
   "source": [
    "from nltk.corpus import wordnet_ic\n",
    "nltk.download('wordnet_ic')\n",
    "\n",
    "# lin_similarities stores the word pair and Lin similarity mappings\n",
    "lin_similarities = {}\n",
    "\n",
    "###\n",
    "# Your answer BEGINS HERE\n",
    "###\n",
    " \n",
    "brown_ic = wordnet_ic.ic(\"ic-brown.dat\")\n",
    "\n",
    "# use primary_synset variable we get before\n",
    "\n",
    "for pairs in final_gold_standard:\n",
    "    lin_similarities[pairs]=primary_synset[pairs[0]].lin_similarity(primary_synset[pairs[1]],brown_ic)\n",
    "###\n",
    "# Your answer ENDS HERE\n",
    "###\n",
    "\n",
    "print(lin_similarities)"
   ]
  },
  {
   "cell_type": "markdown",
   "metadata": {},
   "source": [
    "<b>For your testing:</b>"
   ]
  },
  {
   "cell_type": "code",
   "execution_count": 9,
   "metadata": {},
   "outputs": [],
   "source": [
    "assert(lin_similarities[('professor', 'doctor')] > 0.5 and lin_similarities[('professor', 'doctor')] < 1)"
   ]
  },
  {
   "cell_type": "markdown",
   "metadata": {},
   "source": [
    "**Instructions:** Next, you will calculate Normalized PMI (NPMI) for your word pairs using word frequency derived from the Brown.\n",
    "\n",
    "PMI is defined as:\n",
    "\n",
    "\\begin{equation*}\n",
    "PMI = \\log_2\\left(\\frac{p(x,y)}{p(x)p(y)}\\right)\n",
    "\\end{equation*}\n",
    "\n",
    "where\n",
    "\n",
    "\\begin{equation*}\n",
    "p(x,y) = \\frac{\\text{Number of paragraphs with the co-occurrence of x and y}}{\\sum_i \\text{Number of word types in paragraph}_i}\n",
    "\\end{equation*}\n",
    "\n",
    "\\begin{equation*}\n",
    "p(x) = \\frac{\\text{Number of paragraphs with the occurrence of x}}{\\sum_i \\text{Number of word types in paragraph}_i}\n",
    "\\end{equation*}\n",
    "\n",
    "\\begin{equation*}\n",
    "p(y) = \\frac{\\text{Number of paragraphs with the occurrence of y}}{\\sum_i \\text{Number of word types in paragraph}_i}\n",
    "\\end{equation*}\n",
    "\n",
    "with the sum over $i$ ranging over all paragraphs. Note that there are other ways PMI could be formulated.\n",
    "\n",
    "NPMI is defined as:\n",
    "\n",
    "\\begin{equation*}\n",
    "NPMI = \\frac{PMI}{-\\log_2(p(x,y))} = \\frac{\\log_2(p(x)p(y))}{\\log_2(p(x,y))} - 1\n",
    "\\end{equation*}\n",
    "\n",
    "Thus, when there is no co-occurrence, NMPI is -1. NPMI is normalized between [-1, +1].\n",
    "\n",
    "You should use the same set up as you did to calculate document frequency above: paragraphs as documents, lemmatized, lower-cased, and with term frequency information removed by conversion to Python sets. You need to use the basic method for calculating PMI introduced in class (and also in the reading) which is appropriate for any possible definition of co-occurrence (here, there is co-occurrence when a word pair appears in the same paragraph), but you should only calculate PMI for the words in your test set. You must avoid building the entire co-occurrence matrix, instead you should keeping track of the sums you need for the probabilities as you go along. \n",
    "\n",
    "When you have calculated NPMI for all the pairs, you should store the word pair and NPMI-similarity mappings in a dictionary called *NPMI_similarities*. You may check the section, <i>\"For your testing\"</i>, below for the expected *NPMI_similarities*. \n",
    "\n",
    "(1 mark)"
   ]
  },
  {
   "cell_type": "code",
   "execution_count": 10,
   "metadata": {
    "scrolled": false
   },
   "outputs": [
    {
     "name": "stdout",
     "output_type": "stream",
     "text": [
      "{('bread', 'butter'): 0.6531274411859387, ('professor', 'doctor'): -1, ('student', 'professor'): 0.5354962415689983, ('stock', 'egg'): 0.36851317208575773, ('money', 'cash'): 0.4449386151645849, ('king', 'queen'): 0.4181409875841251, ('bishop', 'rabbi'): -1, ('football', 'basketball'): 0.7161995412194375, ('football', 'tennis'): -1, ('alcohol', 'chemistry'): 0.6246378635796279, ('baby', 'mother'): 0.5149356404722452, ('car', 'automobile'): 0.5430336994491087, ('journey', 'voyage'): -1, ('coast', 'shore'): 0.5861512713910588, ('brother', 'monk'): 0.4299321052138585, ('journey', 'car'): -1, ('coast', 'hill'): 0.33931058115494483, ('forest', 'graveyard'): -1, ('monk', 'slave'): -1, ('coast', 'forest'): 0.4578742224865384, ('psychology', 'doctor'): 0.46132839710287143, ('psychology', 'mind'): 0.44616686316224086, ('psychology', 'health'): -1, ('psychology', 'science'): 0.5908742071394515, ('planet', 'moon'): 0.6580007884569385, ('planet', 'galaxy'): -1}\n"
     ]
    }
   ],
   "source": [
    "# NPMI_similarities stores the word pair and NPMI similarity mappings\n",
    "NPMI_similarities = {}\n",
    "\n",
    "###\n",
    "# Your answer BEGINS HERE\n",
    "###\n",
    "\"\"\"\n",
    "Variables:\n",
    "    number_word_type: ∑𝑖Number of word types in paragraph𝑖\n",
    "    pxy: a Counter of 'Number of paragraphs with the co-occurrence of x and y' \n",
    "            for all word pairs in 'final_gold_standard'\n",
    "            \n",
    "local variables: \n",
    "    p_x: Number of paragraphs with the occurrence of x\n",
    "    p_y: Number of paragraphs with the occurrence of y\n",
    "    \n",
    "The fisrt for loop aim to get the 'number_word_type' and 'pxy'\n",
    "Then uses them to calculate the NPMI_similarities for each pair in final_gold_standard;\n",
    "\"\"\"\n",
    "\n",
    "import math\n",
    "\n",
    "number_word_type = 0\n",
    "\n",
    "pxy=Counter()\n",
    "\n",
    "for parapraph in para:\n",
    "    COUNT+=1\n",
    "    words_in_para = set()\n",
    "    for i in range(len(parapraph)):\n",
    "\n",
    "        for word in parapraph[i]:\n",
    "\n",
    "            word = lemmatize(word.lower())\n",
    "            if word.isalpha():\n",
    "                words_in_para.add(word)\n",
    "    number_word_type += len(words_in_para)\n",
    "    for pairs in final_gold_standard:\n",
    "        \n",
    "        if (pairs[0] in words_in_para) and (pairs[1] in words_in_para):\n",
    "            pxy[pairs]+=1;\n",
    "\n",
    "# Calculate NPMI based on formula in instruction\n",
    "for pairs in final_gold_standard:\n",
    "    p_x = cnt[pairs[0]]/number_word_type\n",
    "    p_y = cnt[pairs[1]]/number_word_type\n",
    "    if pxy[pairs]:\n",
    "        p_xy = pxy[pairs]/number_word_type\n",
    "        NPMI_similarities[pairs] = (math.log2(p_x*p_y)/math.log2(p_xy))-1\n",
    "    else:\n",
    "        pxy[pairs]=0\n",
    "        NPMI_similarities[pairs] = -1\n",
    "\n",
    "###\n",
    "# Your answer ENDS HERE\n",
    "###\n",
    "\n",
    "print(NPMI_similarities)"
   ]
  },
  {
   "cell_type": "markdown",
   "metadata": {},
   "source": [
    "<b>For your testing:</b>"
   ]
  },
  {
   "cell_type": "code",
   "execution_count": 11,
   "metadata": {},
   "outputs": [],
   "source": [
    "assert(NPMI_similarities[('professor', 'doctor')] == -1)"
   ]
  },
  {
   "cell_type": "markdown",
   "metadata": {},
   "source": [
    "**Instructions:** As PMI matrix is very sparse and can be approximated well by a dense representation via singular value decomposition (SVD), you will derive similarity scores using the Latent Semantic Analysis (LSA) method, i.e. apply SVD and truncate to get a dense vector representation of a word type and then calculate cosine similarity between the two vectors for each word pair. You can use the Distributed Semantics notebook as a starting point, but note that since you are interested here in word semantics, you will be constructing a matrix where the (non-sparse) rows correspond to words in the vocabulary, and the (sparse) columns correspond to the texts where they appear (this is the opposite of the notebook). Again, use the Brown corpus, in the same format as with PMI and document frequency. After you have a matrix in the correct format, use `truncatedSVD` in `sklearn` to produce dense vectors of length k = 500, and then use cosine similarity to produce similarities for your word pairs. \n",
    "\n",
    "When you are done, you should store the word pair and LSA-similarity mappings in a dictionary called *LSA_similarities*. You may check the section, <i>\"For your testing\"</i>, below for the expected *LSA_similarities*. \n",
    "\n",
    "(1 mark)"
   ]
  },
  {
   "cell_type": "code",
   "execution_count": 12,
   "metadata": {},
   "outputs": [
    {
     "name": "stdout",
     "output_type": "stream",
     "text": [
      "{('bread', 'butter'): 0.30897965062523947, ('professor', 'doctor'): 0.06569033484068887, ('student', 'professor'): 0.2739830530939314, ('stock', 'egg'): 0.0965100747486502, ('money', 'cash'): 0.13669555105728515, ('king', 'queen'): 0.11141929751209015, ('bishop', 'rabbi'): 0.03661898236222892, ('football', 'basketball'): 0.2577646358862403, ('football', 'tennis'): 0.13716625760894652, ('alcohol', 'chemistry'): 0.07217663696316101, ('baby', 'mother'): 0.360210640583523, ('car', 'automobile'): 0.3068787374915408, ('journey', 'voyage'): 0.1156359129964517, ('coast', 'shore'): 0.4136898639809309, ('brother', 'monk'): 0.07338226585664914, ('journey', 'car'): 0.01486319980281594, ('coast', 'hill'): 0.2230497613454302, ('forest', 'graveyard'): 0.057136528344063596, ('monk', 'slave'): -0.0050874539295492375, ('coast', 'forest'): 0.13955215714072502, ('psychology', 'doctor'): 0.12477519576508618, ('psychology', 'mind'): 0.1299808173625257, ('psychology', 'health'): 0.048015640999758746, ('psychology', 'science'): 0.26244837928296066, ('planet', 'moon'): 0.4089048092468448, ('planet', 'galaxy'): 0.060009862038348113}\n"
     ]
    }
   ],
   "source": [
    "# LSA_similarities stores the word pair and LSA similarity mappings\n",
    "LSA_similarities = {}\n",
    "\n",
    "###\n",
    "# Your answer BEGINS HERE\n",
    "###\n",
    "\"\"\"\n",
    "Variables:\n",
    "    total_words_list: the total words list in brown copus\n",
    "    matrix: word-documents matrixs, intial value is 0\n",
    "    \n",
    "local variable: \n",
    "    first_index, second_index: the index of word in total_words_list\n",
    "    \n",
    "firstly, build the matrix (first for loop)\n",
    "then, calculate the LSA_similarities (second for loop)\n",
    "    \n",
    "\"\"\"\n",
    "\n",
    "from sklearn.decomposition import TruncatedSVD\n",
    "import numpy as np\n",
    "from sklearn.metrics.pairwise import cosine_similarity\n",
    "\n",
    "total_words_list = list(cnt)\n",
    "matrix = np.zeros(shape=(len(total_words_list),len(para)))\n",
    "\n",
    "paragraph_num=0\n",
    "for paragraph in para:\n",
    "   \n",
    "    words_in_para = set()\n",
    "    for i in range(len(paragraph)):\n",
    "\n",
    "        for word in paragraph[i]:\n",
    "\n",
    "            word = lemmatize(word.lower())\n",
    "            if word.isalpha():\n",
    "                words_in_para.add(word)\n",
    "    word_num=0\n",
    "    for word in total_words_list:\n",
    "        if word in words_in_para:\n",
    "            matrix[word_num][paragraph_num]=1\n",
    "        word_num+=1\n",
    "    paragraph_num+=1\n",
    "\n",
    "# After truncatedSVD, reduce the dimensions into 500\n",
    "# matrix shape: (lenth of words,500)\n",
    "svd = TruncatedSVD(n_components=500)\n",
    "matrix = svd.fit_transform(matrix)\n",
    "    \n",
    "for pairs in final_gold_standard:\n",
    "    first_index = total_words_list.index(pairs[0])\n",
    "    second_index = total_words_list.index(pairs[1])\n",
    "    \n",
    "    # then compare two matrix[index] which represent two words\n",
    "    LSA_similarities[pairs] = np.asscalar(cosine_similarity([matrix[first_index]], [matrix[second_index]]))\n",
    "    \n",
    "    \n",
    "###\n",
    "# Your answer ENDS HERE\n",
    "###\n",
    "\n",
    "print(LSA_similarities)"
   ]
  },
  {
   "cell_type": "markdown",
   "metadata": {},
   "source": [
    "<b>For your testing:</b>"
   ]
  },
  {
   "cell_type": "code",
   "execution_count": 13,
   "metadata": {},
   "outputs": [],
   "source": [
    "assert(LSA_similarities[('professor', 'doctor')] > 0 and LSA_similarities[('professor', 'doctor')] < 0.4)"
   ]
  },
  {
   "cell_type": "markdown",
   "metadata": {},
   "source": [
    "## 3. Comparison with the Gold Standard (1 mark)"
   ]
  },
  {
   "cell_type": "markdown",
   "metadata": {},
   "source": [
    "\n",
    "**Instructions:** Finally, you should compare all the similarities you've created to the gold standard you loaded and filtered in the first step. For this, you can use the Pearson correlation co-efficient (`pearsonr`), which is included in scipy (`scipy.stats`). Be careful converting your dictionaries to lists for this purpose, the data for the two datasets needs to be in the same order for correct comparison using correlation. Write a general function, then apply it to each of the similarity score dictionaries.\n",
    "\n",
    "When you are done, you should put the result in a dictionary called *pearson_correlations* (use the keys: 'lin', 'NPMI', 'LSA'). You may check the section, <i>\"For your testing\"</i>, below for the expected *pearson_correlations*. \n",
    "\n",
    "<b>Hint:</b> All of the methods used here should be markedly above 0, but also far from 1 (perfect correlation); if you're not getting reasonable results, go back and check your code for bugs!  \n",
    "\n",
    "(1 mark)\n"
   ]
  },
  {
   "cell_type": "code",
   "execution_count": 16,
   "metadata": {},
   "outputs": [
    {
     "name": "stdout",
     "output_type": "stream",
     "text": [
      "{'lin': 0.5301489978447533, 'NPMI': 0.18799887895693995, 'LSA': 0.41764745356666827}\n"
     ]
    }
   ],
   "source": [
    "from scipy.stats import pearsonr\n",
    "\n",
    "# pearson_correlations stores the pearson correlations with the gold standard of 'lin', 'NPMI', 'LSA'\n",
    "pearson_correlations = {}\n",
    "\n",
    "###\n",
    "# Your answer BEGINS HERE\n",
    "###\n",
    "\"\"\"\n",
    "compare function:\n",
    "    input: (dictionary of similarities, dictionary of similarities)\n",
    "    return: float number of Pearson correlation co-efficient\n",
    "\"\"\"\n",
    "def compare(similarities,final_gold_standard):\n",
    "    sim_list = []\n",
    "    stan_list = []\n",
    "    for pairs in final_gold_standard:\n",
    "        sim_list.append(final_gold_standard[pairs])\n",
    "        stan_list.append(similarities[pairs])\n",
    "    return pearsonr(sim_list, stan_list)[0]\n",
    "\n",
    "pearson_correlations['lin']= compare(lin_similarities,final_gold_standard)\n",
    "pearson_correlations['NPMI']= compare(NPMI_similarities,final_gold_standard)\n",
    "pearson_correlations['LSA']= compare(LSA_similarities,final_gold_standard)\n",
    "###\n",
    "# Your answer ENDS HERE\n",
    "###\n",
    "\n",
    "print(pearson_correlations)"
   ]
  },
  {
   "cell_type": "markdown",
   "metadata": {},
   "source": [
    "<b>For your testing:</b>"
   ]
  },
  {
   "cell_type": "code",
   "execution_count": 15,
   "metadata": {},
   "outputs": [],
   "source": [
    "assert(pearson_correlations['lin'] > 0.4 and pearson_correlations['lin'] < 0.8)"
   ]
  },
  {
   "cell_type": "markdown",
   "metadata": {},
   "source": [
    "## Challenge yourself: Improving the correlation (This part will NOT be marked)"
   ]
  },
  {
   "cell_type": "markdown",
   "metadata": {},
   "source": [
    "You can try to derive a similarity score from word2vec vectors, using the Gensim interface, and compare it with the similarity scores you've created and the gold standard. Check the Gensim word2vec tutorial for details on the API: https://radimrehurek.com/gensim/models/word2vec.html. Again, you should use the Brown for this, but for word2vec you don't need to worry about paragraphs: feel free to train your model at the sentence level instead. Your vectors should have the same number of dimensions as LSA (500), and you need to run for 50 iterations. This may take a while (several minutes)."
   ]
  },
  {
   "cell_type": "code",
   "execution_count": null,
   "metadata": {},
   "outputs": [],
   "source": []
  },
  {
   "cell_type": "markdown",
   "metadata": {},
   "source": [
    "## A final word\n",
    "\n",
    "Normally, we would not use a corpus as small as the Brown for the purposes of building distributional word vectors. Also, note that filtering our test set to just words we are likely to do well on would typically be considered cheating."
   ]
  }
 ],
 "metadata": {
  "anaconda-cloud": {},
  "kernelspec": {
   "display_name": "Python 3",
   "language": "python",
   "name": "python3"
  },
  "language_info": {
   "codemirror_mode": {
    "name": "ipython",
    "version": 3
   },
   "file_extension": ".py",
   "mimetype": "text/x-python",
   "name": "python",
   "nbconvert_exporter": "python",
   "pygments_lexer": "ipython3",
   "version": "3.7.2"
  }
 },
 "nbformat": 4,
 "nbformat_minor": 1
}
